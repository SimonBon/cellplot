{
 "cells": [
  {
   "cell_type": "code",
   "execution_count": null,
   "metadata": {},
   "outputs": [],
   "source": [
    "import numpy as np\n",
    "import matplotlib.pyplot as plt\n",
    "import tifffile\n",
    "from pathlib import Path\n",
    "from cellplot_package.cellplot.segmentation import rand_col_seg, plot_image_and_segmentation\n",
    "from cellplot_package.cellplot.utils import generate_rainbow_colors\n",
    "import re\n",
    "from PIL import Image, ImageDraw, ImageFont\n",
    "from IPython.display import display\n",
    "import seaborn as sb\n",
    "from matplotlib.lines import Line2D   \n",
    "\n",
    "MARKER_NAMES = ['MPO', 'CD44', 'Fibronectin', 'CD11b', 'HLA-DR', 'PRPH', 'CXCR2', 'H3K9Ac', 'HLA-ABC', 'CD20', 'LUM', 'CD11c', 'CD24', 'CD3', 'CD45', 'CD8a', 'GD2', 'CD34', 'CD10', 'CXCR4', 'CD274', 'S100B', 'SOX10', 'FOXP3', 'CHGA', 'CD279', 'PNMT', 'H4K12Ac', 'GATA3', 'Ki-67', 'CD56', 'CD4', 'IDO', 'GZMB', 'ELAVL4', 'CD14', 'clPARP', 'DNA1', 'DNA1', 'Vimentin', 'CD15', 'IF1', 'IF2', 'IF3']\n",
    "colors = generate_rainbow_colors(len(MARKER_NAMES))"
   ]
  },
  {
   "cell_type": "code",
   "execution_count": null,
   "metadata": {},
   "outputs": [],
   "source": [
    "mask_path = \"/data_isilon_main/isilon_images/10_MetaSystems/MetaSystemsData/Multimodal_Imaging_Daria/PIPELINE/NEWEST_RESULTS/refined_masks\"\n",
    "image_path = \"/data_isilon_main/isilon_images/10_MetaSystems/MetaSystemsData/Multimodal_Imaging_Daria/PIPELINE/NEWEST_RESULTS/img\"\n",
    "\n",
    "masks = list(Path(mask_path).glob(\"*BM*.tif\"))\n",
    "images = list(Path(image_path).glob(\"*BM*.tif\"))\n",
    "\n",
    "chosen_sample = masks[11].stem\n",
    "\n",
    "mask = [x for x in masks if chosen_sample in str(x)]\n",
    "image = [x for x in images if chosen_sample in str(x)]\n",
    "\n",
    "print(mask, image)"
   ]
  },
  {
   "cell_type": "code",
   "execution_count": null,
   "metadata": {},
   "outputs": [],
   "source": [
    "marker_image = tifffile.imread(image).squeeze()\n",
    "mask_image = tifffile.imread(mask).squeeze()"
   ]
  },
  {
   "cell_type": "code",
   "execution_count": null,
   "metadata": {},
   "outputs": [],
   "source": [
    "marker_image.shape, mask_image.shape"
   ]
  },
  {
   "cell_type": "code",
   "execution_count": null,
   "metadata": {},
   "outputs": [],
   "source": [
    "fig = plot_image_and_segmentation(marker_image[38, 50:250, 400:600], mask_image[50:250, 400:600])"
   ]
  },
  {
   "cell_type": "code",
   "execution_count": null,
   "metadata": {},
   "outputs": [],
   "source": [
    "from cellplot_package.cellplot.multiview import create_multiview"
   ]
  },
  {
   "cell_type": "code",
   "execution_count": null,
   "metadata": {},
   "outputs": [],
   "source": [
    "canvas = create_multiview(marker_image.transpose(1,2,0))\n",
    "\n",
    "display(canvas)"
   ]
  },
  {
   "cell_type": "code",
   "execution_count": null,
   "metadata": {},
   "outputs": [],
   "source": [
    "# Create a blank white image of size 600x600\n",
    "\n",
    "def create_channel_plot(image, n_images=15, shift_x = 20, shift_y = 40, margin_x = 100, skip_channels = 5, fontsize=15):\n",
    "    \n",
    "    image_width = image.shape[1]\n",
    "    image_height = image.shape[2]\n",
    "\n",
    "    colors  = generate_rainbow_colors(n_images).tolist()\n",
    "    canvas = Image.new('RGB', ((n_images-1)*shift_x + image_width + margin_x, (n_images-1)*shift_y + image_height), 'white')\n",
    "    draw = ImageDraw.Draw(canvas)\n",
    "    font = ImageFont.truetype(\"/usr/share/fonts/truetype/freefont/FreeSerif.ttf\", fontsize)\n",
    "    color = 'black'  # Text color\n",
    "\n",
    "    for i in range(n_images):\n",
    "        \n",
    "        section = image[len(marker_names)-n_images+i-skip_channels].squeeze()\n",
    "        \n",
    "        colored_section = np.stack((section,)*3, axis=-1)\n",
    "        \n",
    "        \n",
    "        draw.text((canvas.size[0]-i*shift_x - margin_x + 5, image_height+i*shift_y - shift_y//2), marker_names[len(marker_names)-n_images+i-skip_channels], fill=color, font=font, anchor=\"lm\")\n",
    "        color_array = np.full(colored_section.shape, colors[i], dtype=np.uint8)\n",
    "        processed_image = (colored_section * color_array).astype(np.uint8)\n",
    "        final_image = Image.fromarray(processed_image)\n",
    "\n",
    "        canvas.paste(final_image, (canvas.size[0]-image_width-i*shift_x - margin_x, i*shift_y))\n",
    "        \n",
    "    return canvas\n",
    "        \n",
    "canvas = create_channel_plot(marker_image[:, 50:250, 400:600])"
   ]
  },
  {
   "cell_type": "code",
   "execution_count": null,
   "metadata": {},
   "outputs": [],
   "source": [
    "canvas"
   ]
  },
  {
   "cell_type": "code",
   "execution_count": null,
   "metadata": {},
   "outputs": [],
   "source": [
    "canvas.save(\"/home/simon_g/tmp/channel_view.eps\")"
   ]
  },
  {
   "cell_type": "code",
   "execution_count": null,
   "metadata": {},
   "outputs": [],
   "source": [
    "from CellPatchExtraction.src.extraction import extract_and_pad_objects\n",
    "from scipy.ndimage import zoom"
   ]
  },
  {
   "cell_type": "code",
   "execution_count": null,
   "metadata": {},
   "outputs": [],
   "source": [
    "patch_size = 32\n",
    "target_size = 512\n",
    "factor = target_size / patch_size \n",
    "zoom_factors_image = [1, factor, factor, 1]\n",
    "zoom_factors_mask = [1, factor, factor]\n",
    "\n",
    "colors = np.array([\n",
    "    (255, 255, 0),      \n",
    "    (128, 255, 255),    \n",
    "    (0, 0, 255),      \n",
    "    (0, 255, 0),  \n",
    "    (255, 0, 0),\n",
    "    (200, 0, 200)\n",
    "])\n",
    "        \n",
    "idxs = [1, 8, 38, 9, 13, 20]  \n",
    "\n",
    "patch_id = 10"
   ]
  },
  {
   "cell_type": "code",
   "execution_count": null,
   "metadata": {},
   "outputs": [],
   "source": [
    "## with surrounding\n",
    "\n",
    "def rescale(arr, factors, order=0):\n",
    "    arr = np.array(arr)\n",
    "    arr = np.clip(zoom(arr, factors, order=order), 0, 1)\n",
    "    return arr\n",
    "    \n",
    "    \n",
    "def get_mean_expression(mask, image):\n",
    "    \n",
    "    masks = np.stack((mask,)*image.shape[0], axis=0)\n",
    "    channel_vals = image[masks==1].reshape(image.shape[0], -1)\n",
    "    channel_vals = np.sort(channel_vals, axis=1)\n",
    "    l = channel_vals.shape[1]\n",
    "    mean = np.mean(channel_vals[:, int(l*0.8):], axis=1)\n",
    "    print(int(l*0.8), l, mean)\n",
    "    #mean_expression = np.expand_dims(np.mean(channel_vals, axis=1),1)\n",
    "\n",
    "    mean_expression = np.expand_dims(mean,1)\n",
    "    return mean_expression\n",
    "\n",
    "def create_expression_plot(expression):\n",
    "    \n",
    "    fig, ax = plt.subplots(1, 1, figsize=(1,len(expression)))\n",
    "    sb.heatmap(expression, annot=True, ax=ax, cbar=False, cmap=\"viridis\", annot_kws={\"fontsize\": 20})\n",
    "    ax.axis(\"off\")\n",
    "    return fig\n",
    "\n",
    "def create_multichannel_view(multichannel_array, idxs_to_plot, colors):\n",
    "    \n",
    "    overlay_image = np.zeros((*multichannel_array[0].shape, 3))\n",
    "\n",
    "    for n, idx in enumerate(idxs_to_plot):\n",
    "        \n",
    "        for channel in range(3):  # Iterate over color channels\n",
    "                overlay_image[:, :, channel] += multichannel_array[idx] * colors[n][channel] / 255\n",
    "                \n",
    "        if n == len(colors)-1:\n",
    "            break\n",
    "        \n",
    "    return np.clip(overlay_image, 0, 1)\n",
    "\n",
    "\n",
    "def create_single_cell_plots(multichannel_patch, mask, idxs, colors, marker_names, save=False, suffix=\"\"):\n",
    "    \n",
    "    canvas = create_channel_plot(multichannel_patch, 44, shift_x=0, shift_y=512, margin_x=500, fontsize=100, skip_channels=0)\n",
    "    \n",
    "    mean_expression = get_mean_expression(mask, multichannel_patch)\n",
    "    expression_fig = create_expression_plot(mean_expression)\n",
    "    \n",
    "    overlay = create_multichannel_view(multichannel_patch, idxs, colors)\n",
    "\n",
    "    overlay_fig = plt.figure()   \n",
    "    \n",
    "    custom_lines = [Line2D([0], [0], color=tuple(c/255), lw=4) for i, c in enumerate(colors)]\n",
    "    markers = [marker_names[i] for i in idxs]\n",
    "    \n",
    "    plt.imshow(np.clip(overlay, 0, 1))\n",
    "    plt.legend(custom_lines, markers, prop={\"weight\": \"bold\", \"size\": 12})\n",
    "    plt.axis(\"off\")\n",
    "    \n",
    "    overlay_mask_fig = plt.figure()   \n",
    "    plt.imshow(np.clip(overlay, 0, 1))\n",
    "    plt.imshow(mask, alpha=0.8, cmap=\"gray\")\n",
    "    plt.legend(custom_lines, markers, prop={\"weight\": \"bold\", \"size\": 12})\n",
    "    plt.axis(\"off\")\n",
    "\n",
    "    display(canvas)\n",
    "    \n",
    "    if save:\n",
    "        expression_fig.savefig(f\"/home/simon_g/tmp/single_cell_expression{suffix}.eps\")\n",
    "        canvas.save(f\"/home/simon_g/tmp/single_cell_mask{suffix}.eps\")\n",
    "        overlay_mask_fig.savefig(f\"/home/simon_g/tmp/single_cell_multiview_mask{suffix}.eps\")\n",
    "        overlay_fig.savefig(f\"/home/simon_g/tmp/single_cell_multiview{suffix}.eps\")"
   ]
  },
  {
   "cell_type": "code",
   "execution_count": null,
   "metadata": {},
   "outputs": [],
   "source": [
    "\n",
    "image_patches, mask_patches, surrounding_patches, background_patches, coords = extract_and_pad_objects(mask=mask_image, image=marker_image.transpose(1,2,0), patch_size=patch_size, exclude_edges=True, use_surrounding=True)\n",
    "\n",
    "image_patches = rescale(image_patches[patch_id:patch_id+1], zoom_factors_image)\n",
    "mask_patches = rescale(mask_patches[patch_id:patch_id+1], zoom_factors_mask)\n",
    "\n",
    "patches = np.array(image_patches).transpose(0,-1,1,2)\n",
    "\n",
    "for p, m in zip(patches, mask_patches): \n",
    "    \n",
    "    create_single_cell_plots(p, m, idxs, colors, marker_names=marker_names, suffix=\"_surr\", save=True)\n",
    "    \n",
    "    \n",
    "image_patches, mask_patches, surrounding_patches, background_patches, coords = extract_and_pad_objects(mask=mask_image, image=marker_image.transpose(1,2,0), patch_size=patch_size, exclude_edges=True, use_surrounding=False)\n",
    "\n",
    "image_patches = rescale(image_patches[patch_id:patch_id+1], zoom_factors_image)\n",
    "mask_patches = rescale(mask_patches[patch_id:patch_id+1], zoom_factors_mask)\n",
    "\n",
    "patches = np.array(image_patches).transpose(0,-1,1,2)\n",
    "\n",
    "for p, m in zip(patches, mask_patches): \n",
    "    \n",
    "    create_single_cell_plots(p, m, idxs, colors,  marker_names=marker_names, suffix=\"_nosurr\", save=True)"
   ]
  },
  {
   "cell_type": "code",
   "execution_count": null,
   "metadata": {},
   "outputs": [],
   "source": [
    "plt.rcParams[\"figure.figsize\"] = 10, 10\n",
    "\n",
    "rgb_image = np.zeros((200, 200, 3))\n",
    "\n",
    "markers = []\n",
    "\n",
    "for i, c in enumerate(idxs):\n",
    "    \n",
    "    markers.append(marker_names[c])\n",
    "    \n",
    "    im = marker_image[c, 50:250, 400:600]\n",
    "    \n",
    "    if im.max() == 0 or \"IF\" in marker_names[c]:\n",
    "        continue\n",
    "    \n",
    "    for chan in range(3):  # Iterate over color channels\n",
    "        rgb_image[:, :, chan] += im * colors[i][chan] / 255\n",
    "        \n",
    "    if i == len(colors)-1:\n",
    "        break\n",
    "   \n",
    "\n",
    "custom_lines = [Line2D([0], [0], color=tuple(c/255), lw=4) for i, c in enumerate(colors)]\n",
    "\n",
    "plt.imshow(np.clip(rgb_image, 0, 1))\n",
    "plt.legend(custom_lines, markers, prop={\"weight\": \"bold\", \"size\": 12})\n",
    "plt.axis(\"off\")\n",
    "plt.savefig(\"/home/simon_g/tmp/multiuchannel_view.eps\")"
   ]
  },
  {
   "cell_type": "code",
   "execution_count": null,
   "metadata": {},
   "outputs": [],
   "source": [
    "image_patches, mask_patches, surrounding_patches, background_patches, coords = extract_and_pad_objects(mask=mask_image, image=marker_image.transpose(1,2,0), patch_size=patch_size, exclude_edges=True, use_surrounding=True)\n",
    "\n",
    "image_patches = rescale(image_patches[:10], zoom_factors_image)\n",
    "mask_patches = rescale(mask_patches[:10], zoom_factors_mask)\n",
    "surrounding_patches = rescale(surrounding_patches[:10], zoom_factors_mask)\n",
    "\n",
    "patches = np.array(image_patches).transpose(0,-1,1,2)"
   ]
  },
  {
   "cell_type": "code",
   "execution_count": null,
   "metadata": {},
   "outputs": [],
   "source": [
    "mc_view = create_multichannel_view(patches[0], idxs, colors)\n",
    "\n",
    "\n",
    "plt.imshow(mc_view)\n",
    "plt.axis(\"off\")\n",
    "plt.savefig(\"/home/simon_g/tmp/0_neighborhood.eps\")\n",
    "plt.show()\n",
    "\n",
    "plt.imshow(mask_patches[0])\n",
    "plt.axis(\"off\")\n",
    "plt.savefig(\"/home/simon_g/tmp/0_cellmask.eps\")\n",
    "plt.show()\n",
    "\n",
    "plt.imshow(surrounding_patches[0])\n",
    "plt.axis(\"off\")\n",
    "plt.savefig(\"/home/simon_g/tmp/0_neighborhoodmask.eps\")\n",
    "plt.show()"
   ]
  },
  {
   "cell_type": "code",
   "execution_count": null,
   "metadata": {},
   "outputs": [],
   "source": []
  }
 ],
 "metadata": {
  "kernelspec": {
   "display_name": "contrastive",
   "language": "python",
   "name": "python3"
  },
  "language_info": {
   "codemirror_mode": {
    "name": "ipython",
    "version": 3
   },
   "file_extension": ".py",
   "mimetype": "text/x-python",
   "name": "python",
   "nbconvert_exporter": "python",
   "pygments_lexer": "ipython3",
   "version": "3.9.18"
  }
 },
 "nbformat": 4,
 "nbformat_minor": 2
}
